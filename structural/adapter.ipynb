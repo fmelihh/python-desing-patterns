{
 "cells": [
  {
   "cell_type": "code",
   "execution_count": 2,
   "id": "9b7cdf47-261d-4162-b818-49b9467472a4",
   "metadata": {},
   "outputs": [],
   "source": [
    "# pylint: disable=too-few-public-methods\n",
    "# pylint: disable=arguments-differ\n",
    "\"Adapter Concept Sample Code\"\n",
    "from abc import ABCMeta, abstractmethod\n",
    "\n",
    "class IA(metaclass=ABCMeta):\n",
    "    \"An interface for an object\"\n",
    "    @staticmethod\n",
    "    @abstractmethod\n",
    "    def method_a():\n",
    "        \"An abstract method A\"\n",
    "\n",
    "class ClassA(IA):\n",
    "    \"A Sample Class the implements IA\"\n",
    "\n",
    "    def method_a(self):\n",
    "        print(\"method A\")\n",
    "\n",
    "class IB(metaclass=ABCMeta):\n",
    "    \"An interface for an object\"\n",
    "    @staticmethod\n",
    "    @abstractmethod\n",
    "    def method_b():\n",
    "        \"An abstract method B\"\n",
    "\n",
    "class ClassB(IB):\n",
    "    \"A Sample Class the implements IB\"\n",
    "\n",
    "    def method_b(self):\n",
    "        print(\"method B\")\n",
    "\n",
    "class ClassBAdapter(IA):\n",
    "    \"ClassB does not have a method_a, so we can create an adapter\"\n",
    "\n",
    "    def __init__(self):\n",
    "        self.class_b = ClassB()\n",
    "\n",
    "    def method_a(self):\n",
    "        \"calls the class b method_b instead\"\n",
    "        self.class_b.method_b()\n",
    "\n"
   ]
  },
  {
   "cell_type": "code",
   "execution_count": 3,
   "id": "27677684-7f14-4a0b-a292-0631f803b527",
   "metadata": {},
   "outputs": [
    {
     "name": "stdout",
     "output_type": "stream",
     "text": [
      "method A\n",
      "method B\n"
     ]
    }
   ],
   "source": [
    "# The Client\n",
    "# Before the adapter I need to test the objects class to know which\n",
    "# method to call.\n",
    "ITEMS = [ClassA(), ClassB()]\n",
    "for item in ITEMS:\n",
    "    if isinstance(item, ClassB):\n",
    "        item.method_b()\n",
    "    else:\n",
    "        item.method_a()\n"
   ]
  },
  {
   "cell_type": "code",
   "execution_count": 4,
   "id": "8b171bf7-76ba-47dc-ac89-be9182343d25",
   "metadata": {},
   "outputs": [
    {
     "name": "stdout",
     "output_type": "stream",
     "text": [
      "method A\n",
      "method B\n"
     ]
    }
   ],
   "source": [
    "# After creating an adapter for ClassB I can reuse the same method\n",
    "# signature as ClassA (preferred)\n",
    "ITEMS = [ClassA(), ClassBAdapter()]\n",
    "for item in ITEMS:\n",
    "    item.method_a()"
   ]
  },
  {
   "cell_type": "code",
   "execution_count": null,
   "id": "7986d816-63d3-407a-b62e-cb267748d735",
   "metadata": {},
   "outputs": [],
   "source": []
  }
 ],
 "metadata": {
  "kernelspec": {
   "display_name": "Python 3 (ipykernel)",
   "language": "python",
   "name": "python3"
  },
  "language_info": {
   "codemirror_mode": {
    "name": "ipython",
    "version": 3
   },
   "file_extension": ".py",
   "mimetype": "text/x-python",
   "name": "python",
   "nbconvert_exporter": "python",
   "pygments_lexer": "ipython3",
   "version": "3.8.10"
  }
 },
 "nbformat": 4,
 "nbformat_minor": 5
}
