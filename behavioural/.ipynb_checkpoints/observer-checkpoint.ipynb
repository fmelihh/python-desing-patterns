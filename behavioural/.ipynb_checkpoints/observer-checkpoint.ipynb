{
 "cells": [
  {
   "cell_type": "code",
   "execution_count": 1,
   "id": "2d21dbcf-7649-445a-bae3-dc78796ae143",
   "metadata": {},
   "outputs": [],
   "source": [
    "# pylint: disable=too-few-public-methods\n",
    "# pylint: disable=arguments-differ\n",
    "\"Observer Design Pattern Concept\"\n",
    "\n",
    "from abc import ABCMeta, abstractmethod\n",
    "\n",
    "class IObservable(metaclass=ABCMeta):\n",
    "    \"The Subject Interface\"\n",
    "\n",
    "    @staticmethod\n",
    "    @abstractmethod\n",
    "    def subscribe(observer):\n",
    "        \"The subscribe method\"\n",
    "\n",
    "    @staticmethod\n",
    "    @abstractmethod\n",
    "    def unsubscribe(observer):\n",
    "        \"The unsubscribe method\"\n",
    "\n",
    "    @staticmethod\n",
    "    @abstractmethod\n",
    "    def notify(observer):\n",
    "        \"The notify method\"\n",
    "\n",
    "class Subject(IObservable):\n",
    "    \"The Subject (Observable)\"\n",
    "\n",
    "    def __init__(self):\n",
    "        self._observers = set()\n",
    "\n",
    "    def subscribe(self, observer):\n",
    "        self._observers.add(observer)\n",
    "\n",
    "    def unsubscribe(self, observer):\n",
    "        self._observers.remove(observer)\n",
    "\n",
    "    def notify(self, *args):\n",
    "        for observer in self._observers:\n",
    "            observer.notify(*args)\n",
    "\n",
    "class IObserver(metaclass=ABCMeta):\n",
    "    \"A method for the Observer to implement\"\n",
    "\n",
    "    @staticmethod\n",
    "    @abstractmethod\n",
    "    def notify(observable, *args):\n",
    "        \"Receive notifications\"\n",
    "\n",
    "class Observer(IObserver):\n",
    "    \"The concrete observer\"\n",
    "\n",
    "    def __init__(self, observable):\n",
    "        observable.subscribe(self)\n",
    "\n",
    "    def notify(self, *args):\n",
    "        print(f\"Observer id:{id(self)} received {args}\")\n",
    "\n",
    "# The Client\n",
    "SUBJECT = Subject()\n",
    "OBSERVER_A = Observer(SUBJECT)\n",
    "OBSERVER_B = Observer(SUBJECT)"
   ]
  },
  {
   "cell_type": "code",
   "execution_count": 2,
   "id": "8b151187-6d8e-47e1-ab91-1625b4c85ab4",
   "metadata": {},
   "outputs": [
    {
     "name": "stdout",
     "output_type": "stream",
     "text": [
      "Observer id:139994869213360 received ('First Notification', [1, 2, 3])\n",
      "Observer id:139994869213408 received ('First Notification', [1, 2, 3])\n"
     ]
    }
   ],
   "source": [
    "SUBJECT.notify(\"First Notification\", [1, 2, 3])"
   ]
  },
  {
   "cell_type": "code",
   "execution_count": 3,
   "id": "bd0539dd-d706-4834-beeb-45840dca21a4",
   "metadata": {},
   "outputs": [],
   "source": [
    "SUBJECT.unsubscribe(OBSERVER_B)"
   ]
  },
  {
   "cell_type": "code",
   "execution_count": 4,
   "id": "1cee1dc3-a59a-41dd-b142-1b915b180ebb",
   "metadata": {},
   "outputs": [
    {
     "name": "stdout",
     "output_type": "stream",
     "text": [
      "Observer id:139994869213408 received ('Second Notification', {'A': 1, 'B': 2, 'C': 3})\n"
     ]
    }
   ],
   "source": [
    "SUBJECT.notify(\"Second Notification\", {\"A\": 1, \"B\": 2, \"C\": 3})"
   ]
  },
  {
   "cell_type": "code",
   "execution_count": null,
   "id": "4d290593-75f0-4dcd-9b39-c9781a24d8de",
   "metadata": {},
   "outputs": [],
   "source": []
  }
 ],
 "metadata": {
  "kernelspec": {
   "display_name": "Python 3 (ipykernel)",
   "language": "python",
   "name": "python3"
  },
  "language_info": {
   "codemirror_mode": {
    "name": "ipython",
    "version": 3
   },
   "file_extension": ".py",
   "mimetype": "text/x-python",
   "name": "python",
   "nbconvert_exporter": "python",
   "pygments_lexer": "ipython3",
   "version": "3.8.10"
  }
 },
 "nbformat": 4,
 "nbformat_minor": 5
}
