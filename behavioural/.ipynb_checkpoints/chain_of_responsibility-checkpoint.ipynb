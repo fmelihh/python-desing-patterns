{
 "cells": [
  {
   "cell_type": "code",
   "execution_count": 1,
   "id": "585a8a9d-528a-4352-a040-ea0ba47e7e40",
   "metadata": {},
   "outputs": [],
   "source": [
    "\"The Chain Of Responsibility Pattern Concept\"\n",
    "\n",
    "import random\n",
    "from abc import ABCMeta, abstractmethod\n",
    "\n",
    "\n",
    "class IHandler(metaclass=ABCMeta):\n",
    "    \"The Handler Interface that the Successors should implement\"\n",
    "    @staticmethod\n",
    "    @abstractmethod\n",
    "    def handle(payload):\n",
    "        \"A method to implement\"\n",
    "\n",
    "\n",
    "class Successor1(IHandler):\n",
    "    \"A Concrete Handler\"\n",
    "    @staticmethod\n",
    "    def handle(payload):\n",
    "        print(f\"Successor1 payload = {payload}\")\n",
    "        test = random.randint(1, 2)\n",
    "        if test == 1:\n",
    "            payload = payload + 1\n",
    "            payload = Successor1().handle(payload)\n",
    "        if test == 2:\n",
    "            payload = payload - 1\n",
    "            payload = Successor2().handle(payload)\n",
    "        return payload\n",
    "\n",
    "\n",
    "class Successor2(IHandler):\n",
    "    \"A Concrete Handler\"\n",
    "    @staticmethod\n",
    "    def handle(payload):\n",
    "        print(f\"Successor2 payload = {payload}\")\n",
    "        test = random.randint(1, 3)\n",
    "        if test == 1:\n",
    "            payload = payload * 2\n",
    "            payload = Successor1().handle(payload)\n",
    "        if test == 2:\n",
    "            payload = payload / 2\n",
    "            payload = Successor2().handle(payload)\n",
    "        return payload\n",
    "\n",
    "\n",
    "class Chain():\n",
    "    \"A chain with a default first successor\"\n",
    "    @staticmethod\n",
    "    def start(payload):\n",
    "        \"Setting the first successor that will modify the payload\"\n",
    "        return Successor1().handle(payload)\n"
   ]
  },
  {
   "cell_type": "code",
   "execution_count": 2,
   "id": "b7c35d3f-c4e9-4bd9-bd96-f3467f92583e",
   "metadata": {},
   "outputs": [
    {
     "name": "stdout",
     "output_type": "stream",
     "text": [
      "Successor1 payload = 1\n",
      "Successor2 payload = 0\n",
      "Finished result = 0\n"
     ]
    }
   ],
   "source": [
    "# The Client\n",
    "CHAIN = Chain()\n",
    "PAYLOAD = 1\n",
    "OUT = CHAIN.start(PAYLOAD)\n",
    "print(f\"Finished result = {OUT}\")"
   ]
  },
  {
   "cell_type": "code",
   "execution_count": null,
   "id": "1ef23756-2f6c-432a-969f-ffa640265152",
   "metadata": {},
   "outputs": [],
   "source": []
  }
 ],
 "metadata": {
  "kernelspec": {
   "display_name": "Python 3 (ipykernel)",
   "language": "python",
   "name": "python3"
  },
  "language_info": {
   "codemirror_mode": {
    "name": "ipython",
    "version": 3
   },
   "file_extension": ".py",
   "mimetype": "text/x-python",
   "name": "python",
   "nbconvert_exporter": "python",
   "pygments_lexer": "ipython3",
   "version": "3.8.10"
  }
 },
 "nbformat": 4,
 "nbformat_minor": 5
}
